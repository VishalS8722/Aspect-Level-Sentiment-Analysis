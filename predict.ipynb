{
 "cells": [
  {
   "cell_type": "code",
   "execution_count": 1,
   "metadata": {},
   "outputs": [
    {
     "name": "stderr",
     "output_type": "stream",
     "text": [
      "C:\\Users\\Charu\\AppData\\Roaming\\Python\\Python311\\site-packages\\tqdm\\auto.py:21: TqdmWarning: IProgress not found. Please update jupyter and ipywidgets. See https://ipywidgets.readthedocs.io/en/stable/user_install.html\n",
      "  from .autonotebook import tqdm as notebook_tqdm\n"
     ]
    },
    {
     "name": "stdout",
     "output_type": "stream",
     "text": [
      "Sentence: The food was really good.\n",
      "Predicted Category: food\n",
      "Predicted Polarity: positive\n",
      "\n",
      "Sentence: The service was great.\n",
      "Predicted Category: service\n",
      "Predicted Polarity: positive\n",
      "\n",
      "Sentence: The ambiance of the restaurant is pleasant.\n",
      "Predicted Category: ambience\n",
      "Predicted Polarity: positive\n",
      "\n",
      "Sentence: I absolutely love this restaurant; everything about it is perfect.\n",
      "Predicted Category: miscellaneous\n",
      "Predicted Polarity: positive\n",
      "\n",
      "Sentence: My experience at this restaurant was neither exceptional nor terrible.\n",
      "Predicted Category: miscellaneous\n",
      "Predicted Polarity: negative\n",
      "\n",
      "Sentence: The restaurant occasionally has special discounts, which is a plus.\n",
      "Predicted Category: price\n",
      "Predicted Polarity: positive\n",
      "\n"
     ]
    }
   ],
   "source": [
    "import torch\n",
    "from transformers import BertModel, BertTokenizer\n",
    "from sklearn.preprocessing import LabelEncoder\n",
    "from restaurant_model import RestaurantReviewsModel\n",
    "import joblib\n",
    "# Load the saved model\n",
    "model_path = 'restaurant_reviews_model.pth'  # Replace with the path to your saved model\n",
    "num_categories= 5\n",
    "num_polarities= 3\n",
    "\n",
    "# Define the BERT model and tokenizer\n",
    "bert_model_name = \"bert-base-uncased\"\n",
    "tokenizer = BertTokenizer.from_pretrained(bert_model_name)\n",
    "bert = BertModel.from_pretrained(bert_model_name)\n",
    "\n",
    "model = RestaurantReviewsModel(bert, num_categories, num_polarities)  # Create an instance of your model\n",
    "model.load_state_dict(torch.load(model_path))\n",
    "model.eval()\n",
    "\n",
    "# Load the saved label encoders\n",
    "label_encoder_save_path = \"label_encoders.pkl\"  # Replace with the path to your saved label encoders\n",
    "le_category = joblib.load(label_encoder_save_path + \"_category\")\n",
    "le_polarity = joblib.load(label_encoder_save_path + \"_polarity\")\n",
    "\n",
    "# Define your tokenizer and maximum text length\n",
    "tokenizer = BertTokenizer.from_pretrained(\"bert-base-uncased\")\n",
    "max_text_length = 128  # Define your desired maximum text length\n",
    "\n",
    "# Define a function to preprocess and tokenize the text\n",
    "def preprocess_text(text, tokenizer, max_length):\n",
    "    inputs = tokenizer(text, padding='max_length', truncation=True, max_length=max_length, return_tensors='pt')\n",
    "    return inputs\n",
    "\n",
    "# Define the unseen sentences\n",
    "unseen_sentences = [\n",
    "    \"The food was really good.\",\n",
    "    \"The service was great.\",\n",
    "    \"The ambiance of the restaurant is pleasant.\",\n",
    "    \"I absolutely love this restaurant; everything about it is perfect.\",\n",
    "    \"My experience at this restaurant was neither exceptional nor terrible.\",\n",
    "    \"The restaurant occasionally has special discounts, which is a plus.\"\n",
    "]\n",
    "\n",
    "# Preprocess the unseen sentences and tokenize them\n",
    "unseen_inputs = [preprocess_text(text, tokenizer, max_text_length) for text in unseen_sentences]\n",
    "\n",
    "# Prepare input tensors for the unseen data\n",
    "unseen_input_ids = torch.cat([inputs['input_ids'] for inputs in unseen_inputs], dim=0)\n",
    "unseen_attention_mask = torch.cat([inputs['attention_mask'] for inputs in unseen_inputs], dim=0)\n",
    "unseen_token_type_ids = torch.cat([inputs['token_type_ids'] for inputs in unseen_inputs], dim=0)\n",
    "\n",
    "# Use the loaded model to make predictions on the unseen data\n",
    "with torch.no_grad():\n",
    "    category_logits, polarity_logits = model(unseen_input_ids, unseen_attention_mask, unseen_token_type_ids)\n",
    "\n",
    "# Convert the model's predictions to actual labels\n",
    "category_preds = le_category.inverse_transform(category_logits.argmax(1).cpu().numpy())\n",
    "polarity_preds = le_polarity.inverse_transform(polarity_logits.argmax(1).cpu().numpy())\n",
    "\n",
    "# Display the predictions\n",
    "for i, sentence in enumerate(unseen_sentences):\n",
    "    print(f\"Sentence: {sentence}\")\n",
    "    print(f\"Predicted Category: {category_preds[i]}\")\n",
    "    print(f\"Predicted Polarity: {polarity_preds[i]}\")\n",
    "    print()\n"
   ]
  }
 ],
 "metadata": {
  "kernelspec": {
   "display_name": "Python 3",
   "language": "python",
   "name": "python3"
  },
  "language_info": {
   "codemirror_mode": {
    "name": "ipython",
    "version": 3
   },
   "file_extension": ".py",
   "mimetype": "text/x-python",
   "name": "python",
   "nbconvert_exporter": "python",
   "pygments_lexer": "ipython3",
   "version": "3.11.4"
  }
 },
 "nbformat": 4,
 "nbformat_minor": 2
}

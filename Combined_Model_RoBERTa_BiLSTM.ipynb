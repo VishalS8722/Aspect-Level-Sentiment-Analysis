{
 "cells": [
  {
   "cell_type": "code",
   "execution_count": 1,
   "metadata": {},
   "outputs": [
    {
     "name": "stderr",
     "output_type": "stream",
     "text": [
      "C:\\Users\\vsing\\AppData\\Local\\Packages\\PythonSoftwareFoundation.Python.3.11_qbz5n2kfra8p0\\LocalCache\\local-packages\\Python311\\site-packages\\tqdm\\auto.py:21: TqdmWarning: IProgress not found. Please update jupyter and ipywidgets. See https://ipywidgets.readthedocs.io/en/stable/user_install.html\n",
      "  from .autonotebook import tqdm as notebook_tqdm\n"
     ]
    }
   ],
   "source": [
    "import numpy as np\n",
    "import os\n",
    "import pickle\n",
    "import pickle\n",
    "import torch\n",
    "from tensorflow.keras.preprocessing.sequence import pad_sequences\n",
    "from tensorflow.keras.preprocessing.sequence import pad_sequences\n",
    "from tensorflow.keras.models import load_model\n",
    "from transformers import RobertaTokenizer, RobertaForSequenceClassification\n"
   ]
  },
  {
   "cell_type": "code",
   "execution_count": 2,
   "metadata": {},
   "outputs": [],
   "source": [
    "# Load the tokenizer and model of sentiment\n",
    "tokenizer = RobertaTokenizer.from_pretrained('saved_model_sentiment')\n",
    "model = RobertaForSequenceClassification.from_pretrained('saved_model_sentiment')\n",
    "\n",
    "# Load the tokenizer and model for category\n",
    "load_directory = 'save_model_category_2'  \n",
    "loaded_model = load_model(os.path.join(load_directory, 'my_category_model.h5'))\n",
    "with open(os.path.join(load_directory, 'tokenizer.pickle'), 'rb') as handle:\n",
    "    loaded_tokenizer = pickle.load(handle)"
   ]
  },
  {
   "cell_type": "code",
   "execution_count": 3,
   "metadata": {},
   "outputs": [],
   "source": [
    "# Define category mapping and sentiment labels\n",
    "category_mapping = {0: 'ambience', 1: 'food', 2: 'miscellaneous', 3: 'price', 4: 'service'}\n",
    "sentiment_labels = {0: \"negative\", 1: \"neutral\", 2: \"positive\"}\n",
    "\n",
    "\n",
    "# Define a function to predict aspect category\n",
    "def predict_category(sentence):\n",
    "    max_sequence_length = 63  # Define your desired sequence length\n",
    "    sentence = [sentence]  # Convert to a list for consistency with previous data\n",
    "    sequences = loaded_tokenizer.texts_to_sequences(sentence)\n",
    "    sequences = pad_sequences(sequences, maxlen=max_sequence_length, padding='post', truncating='post')\n",
    "    predicted_category_label = loaded_model.predict(sequences)\n",
    "    predicted_category_label = np.argmax(predicted_category_label)\n",
    "    predicted_category = category_mapping[predicted_category_label]\n",
    "    return predicted_category\n",
    "\n",
    "# Define the function to predict sentiment\n",
    "def predict_sentiment(sentence):\n",
    "    # Assuming you've already loaded your tokenizer and model for sentiment analysis\n",
    "    inputs = tokenizer(sentence, return_tensors=\"pt\", truncation=True, padding=True)\n",
    "    with torch.no_grad():\n",
    "        outputs = model(**inputs)\n",
    "        sentiment_logits = outputs.logits\n",
    "        sentiment_probs = torch.softmax(sentiment_logits, dim=1)  # Apply softmax\n",
    "    sentiment_index = torch.argmax(sentiment_probs, dim=1).item()\n",
    "    predicted_sentiment_label = sentiment_labels[sentiment_index]\n",
    "    return predicted_sentiment_label"
   ]
  },
  {
   "cell_type": "code",
   "execution_count": 4,
   "metadata": {},
   "outputs": [
    {
     "name": "stdout",
     "output_type": "stream",
     "text": [
      "1/1 [==============================] - 3s 3s/step\n",
      "Sentence: \"The food was delicious and flavorful.\"\n",
      "Predicted Aspect Category: food\n",
      "Predicted Sentiment: positive\n",
      "\n",
      "1/1 [==============================] - 0s 51ms/step\n",
      "Sentence: \"The service was slow and disappointing.\"\n",
      "Predicted Aspect Category: service\n",
      "Predicted Sentiment: negative\n",
      "\n",
      "1/1 [==============================] - 0s 62ms/step\n",
      "Sentence: \"The ambience of the restaurant was cozy and inviting.\"\n",
      "Predicted Aspect Category: ambience\n",
      "Predicted Sentiment: positive\n",
      "\n",
      "1/1 [==============================] - 0s 54ms/step\n",
      "Sentence: \"I couldn't figure out what the item on the menu was.\"\n",
      "Predicted Aspect Category: food\n",
      "Predicted Sentiment: negative\n",
      "\n",
      "1/1 [==============================] - 0s 50ms/step\n",
      "Sentence: \"This restaurent is quite costly.\"\n",
      "Predicted Aspect Category: miscellaneous\n",
      "Predicted Sentiment: negative\n",
      "\n"
     ]
    }
   ],
   "source": [
    "# List of sentences for testing\n",
    "sentences = [\n",
    "    \"The food was delicious and flavorful.\",\n",
    "    \"The service was slow and disappointing.\",\n",
    "    \"The ambience of the restaurant was cozy and inviting.\",\n",
    "    \"I couldn't figure out what the item on the menu was.\",\n",
    "    \"This restaurent is quite costly.\"\n",
    "]\n",
    "\n",
    "# Predict aspect category and sentiment for each sentence\n",
    "for sentence in sentences:\n",
    "    predicted_category = predict_category(sentence)\n",
    "    predicted_sentiment = predict_sentiment(sentence)\n",
    "    print(f'Sentence: \"{sentence}\"')\n",
    "    print(f'Predicted Aspect Category: {predicted_category}')\n",
    "    print(f'Predicted Sentiment: {predicted_sentiment}')\n",
    "    print()"
   ]
  }
 ],
 "metadata": {
  "kernelspec": {
   "display_name": "Python 3",
   "language": "python",
   "name": "python3"
  },
  "language_info": {
   "codemirror_mode": {
    "name": "ipython",
    "version": 3
   },
   "file_extension": ".py",
   "mimetype": "text/x-python",
   "name": "python",
   "nbconvert_exporter": "python",
   "pygments_lexer": "ipython3",
   "version": "3.11.6"
  }
 },
 "nbformat": 4,
 "nbformat_minor": 2
}
